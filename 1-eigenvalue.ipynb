{
 "cells": [
  {
   "cell_type": "markdown",
   "metadata": {},
   "source": [
    "# Leeds Adjoint tutorial - eigenvalue problem"
   ]
  },
  {
   "cell_type": "markdown",
   "metadata": {},
   "source": [
    "For our first adjoint tutorial we will introduce adjoints in the context of eigenvalue problems. In general adjoints provide *gradient information* and are useful for\n",
    "1. Sensitivity analysis\n",
    "2. Optimisation\n",
    "3. Weakly non-linear analysis (via the Fredholm alternative)\n",
    "\n",
    "amongst other applications. Eigenvalue problems provide one of the simplest ways in which to see why adjoints are useful. Specifically as a tool for stability analyses that arise in fluid dynamics problems.\n",
    "\n",
    "Consider the eigenvalue problem\n",
    "$$ \\mathbf{A}\\mathbf{q}=\\lambda \\mathbf{q}.$$\n",
    "If we perturb the matrix $\\mathbf{A}$ by a small amount $\\boldsymbol{\\delta}\\mathbf{A}$, for instance by changing a parameter slightly, the eigenvalue will change by a small amount $\\delta \\lambda$, and the eigenvector will change by a corresponding small vector $\\boldsymbol{\\delta} \\mathbf{q}$. Overall, the perturbed eigenvalue problem can be written as\n",
    "$$ (\\mathbf{A}+\\boldsymbol{\\delta}\\mathbf{A})(\\mathbf{q}+\\boldsymbol{\\delta}\\mathbf{q})=(\\lambda +\\delta \\lambda)(  \\mathbf{q}+\\boldsymbol{\\delta}\\mathbf{q}).$$\n",
    "Collecting everything $\\mathcal{O}(\\delta)$ yields\n",
    "$$ \\boldsymbol{\\delta}\\mathbf{A}\\mathbf{q} + \\mathbf{A}\\boldsymbol{\\delta}\\mathbf{q} = \\delta \\lambda \\mathbf{q} + \\lambda \\boldsymbol{\\delta}\\mathbf{q},$$\n",
    "which can be rearranged to give\n",
    "$$ \\delta \\lambda \\mathbf{q} = \\boldsymbol{\\delta}\\mathbf{A}\\mathbf{q} + (\\mathbf{A}-\\lambda)\\boldsymbol{\\delta}\\mathbf{q}.$$\n",
    "This vector equation can be reduced to a scalar equation by introducing the inner product $\\langle \\mathbf{x},\\mathbf{y}\\rangle=\\mathbf{x}^H\\mathbf{y}$. Taking the inner product with a yet to be determined vector $\\mathbf{q}^\\dagger$ gives\n",
    "$$ \\delta \\lambda \\langle \\mathbf{q}^\\dagger,\\mathbf{q}\\rangle = \\langle \\mathbf{q}^\\dagger,\\boldsymbol{\\delta}\\mathbf{A}\\mathbf{q}\\rangle + \\langle \\mathbf{q}^\\dagger,(\\mathbf{A}-\\lambda)\\boldsymbol{\\delta}\\mathbf{q}\\rangle.$$\n",
    "This gives a scalar equation relating $\\delta \\lambda$ to $\\boldsymbol{\\delta}\\mathbf{A}$ and $\\boldsymbol{\\delta}\\mathbf{q}$. What we would really like is an equation relating $\\delta \\lambda$ to only $\\boldsymbol{\\delta}\\mathbf{A}$, as then we will know how the eigenvalues change to our choice of perturbation $\\boldsymbol{\\delta}\\mathbf{A}$. This can be done by considering the last term in the equation $\\langle \\mathbf{q}^\\dagger,(\\mathbf{A}-\\lambda)\\boldsymbol{\\delta}\\mathbf{q}\\rangle$ which involves $\\boldsymbol{\\delta}\\mathbf{q}$. By using the properties of the inner product this can be rewritten as\n",
    "$$ \\langle \\mathbf{q}^\\dagger,(\\mathbf{A}-\\lambda)\\boldsymbol{\\delta}\\mathbf{q}\\rangle = \\langle (\\mathbf{A}-\\lambda)^H\\mathbf{q}^\\dagger,\\boldsymbol{\\delta}\\mathbf{q}\\rangle,$$\n",
    "showing that as long as we choose $\\mathbf{q}^\\dagger$ such that\n",
    "$$\\mathbf{A}^H\\mathbf{q}^\\dagger=\\bar{\\lambda}\\mathbf{q},$$ then this term is zero for any $\\boldsymbol{\\delta}\\mathbf{q}$. This eigenvalue problem for $\\mathbf{q}^\\dagger$ is known as the adjoint eigenvalue problem, with the vector $\\mathbf{q}^\\dagger$ being the adjoint eigenvector. By solving this additional eigenvalue problem we then get\n",
    "$$ \\delta \\lambda  = \\frac{\\langle \\mathbf{q}^\\dagger,\\boldsymbol{\\delta}\\mathbf{A}\\mathbf{q}\\rangle}{\\langle \\mathbf{q}^\\dagger,\\mathbf{q}\\rangle}.$$\n",
    "Hence for any choice of $\\boldsymbol{\\delta}\\mathbf{A}$ we can (almost) instantly obtain $\\delta \\lambda$ via only inner products. Typically, the normalisation $\\langle \\mathbf{q}^\\dagger,\\mathbf{q}\\rangle=1$ is used for the adjoint eigenvector, which simplifies the expression even further to $ \\delta \\lambda  = \\langle \\mathbf{q}^\\dagger,\\boldsymbol{\\delta}\\mathbf{A}\\mathbf{q}\\rangle.$\n",
    "\n",
    "From this we can see some general properties of the adjoint\n",
    "1. The adjoint can be used to efficiently obtain gradient information. \n",
    "2. The adjoint is a linear problem.\n",
    "3. The adjoint operator is found by ensuring that a relation of the form $\\langle \\mathbf{x},\\mathbf{L}\\mathbf{y}\\rangle = \\langle \\mathbf{L}^\\dagger \\mathbf{x},\\mathbf{y}\\rangle$, holds $\\forall \\mathbf{x},\\mathbf{y}$.\n",
    "4. The adjoint can be used to obtain the gradient information without recalculating the direct problem, i.e. it is obtained independently of $\\delta\\mathbf{q}$.\n",
    "5. When the number of parameters we wish to change is large, the adjoint becomes much more efficient than direct computation for seeing how parameters change.\n",
    "\n",
    "The rest of this notebook demonstrates the adjoint eigenvalue problem for plane Poiseuille flow using Dedalus v2 and eigentools.\n",
    "\n",
    "Plane-Poiseuille flow is an exact solution to the Navier stokes equations where a pressure gradient drives a flow between two flat plates. In non-dimensional terms we have the solution $\\mathbf{U}=(U,V,W)^T=(y(2-y),0,0)^T$, with $x$-pressure gradient $\\partial_x P=2/Re$. No-slip boundary conditions are satisfied on the plates situated at $y=0$ and $y=2$. To investigate the stability of this flow to perturbations we note that it is a parallel flow, and therefore perturbations can be written in the form $\\mathbf{u}'=\\mathbf{u}(y)\\exp(\\omega t + i(\\alpha x + \\beta y))$. Linearising the Navier-stokes equation then gives an equation for $\\mathbf{u}$ as\n",
    "\\begin{eqnarray}\n",
    "\\omega u +i\\alpha U u + v\\partial_y U &=& -i\\alpha p + \\frac{1}{Re}(\\partial_{yy}-(\\alpha^2+\\beta^2))u,\\\\\n",
    "\\omega v +i\\alpha U v  &=& -\\partial_y p+\\frac{1}{Re}(\\partial_{yy}-(\\alpha^2+\\beta^2))v,\\\\\n",
    "\\omega w +i\\alpha U w  &=& -i\\beta p + \\frac{1}{Re}(\\partial_{yy}-(\\alpha^2+\\beta^2))w,\\\\\n",
    "i\\alpha u + \\partial_y v + i\\beta w &=& 0.\n",
    "\\end{eqnarray}\n",
    "This is an eigenvalue problem where $\\omega$ is the eigenvalue and $\\mathbf{q}=(\\mathbf{u},p)^T$ is the eigenvector. \n",
    "\n",
    "Although we formulated the adjoint discretely, it can be formulated continuously by using the inner product $\\langle x,y\\rangle=\\int \\bar{x}\\cdot y \\;\\textrm{d}y$. The adjoint operator is then found through integration by parts. For our equations repeated integration by parts gives the adjoint eigenvector problem as\n",
    "\\begin{eqnarray}\n",
    "\\omega u^\\dagger -i\\alpha U u^\\dagger  &=& i\\alpha p^\\dagger + \\frac{1}{Re}(\\partial_{yy}-(\\alpha^2+\\beta^2))u^\\dagger,\\\\\n",
    "\\omega v^\\dagger -i\\alpha U v^\\dagger + u^\\dagger \\partial_y U&=& \\partial_y p^\\dagger+\\frac{1}{Re}(\\partial_{yy}-(\\alpha^2+\\beta^2))v^\\dagger,\\\\\n",
    "\\omega w^\\dagger -i\\alpha U w^\\dagger  &=& i\\beta p^\\dagger + \\frac{1}{Re}(\\partial_{yy}-(\\alpha^2+\\beta^2))w^\\dagger,\\\\\n",
    "-i\\alpha u^\\dagger - \\partial_y v^\\dagger - i\\beta w^\\dagger &=& 0.\n",
    "\\end{eqnarray}\n",
    "\n",
    "With the continuous direct and adjoint problems we're now ready to implement the two eigenvalue calculations in Dedalus!"
   ]
  },
  {
   "cell_type": "markdown",
   "metadata": {},
   "source": [
    "## Numerical implementation"
   ]
  },
  {
   "cell_type": "markdown",
   "metadata": {},
   "source": [
    "To solve the eigenvalue problems we will use Dedalus v2 along with the eigentools package."
   ]
  },
  {
   "cell_type": "code",
   "execution_count": 1,
   "metadata": {},
   "outputs": [],
   "source": [
    "import time\n",
    "import numpy as np\n",
    "import matplotlib.pyplot as plt\n",
    "\n",
    "from dedalus import public as de\n",
    "from dedalus.core import field\n",
    "from scipy import optimize\n",
    "\n",
    "from eigentools import Eigenproblem, CriticalFinder"
   ]
  },
  {
   "cell_type": "code",
   "execution_count": 2,
   "metadata": {},
   "outputs": [],
   "source": [
    "# Plot settings for blog post\n",
    "# params = {\"ytick.color\" : \"grey\",\n",
    "#           \"xtick.color\" : \"grey\",\n",
    "#           \"text.color\" : \"grey\",\n",
    "#           \"axes.labelcolor\" : \"grey\",\n",
    "#           \"axes.edgecolor\" : \"grey\",\n",
    "#           \"legend.facecolor\" : \"None\",\n",
    "#           \"legend.edgecolor\" : \"grey\"}\n",
    "# plt.rcParams.update(params)"
   ]
  },
  {
   "cell_type": "markdown",
   "metadata": {},
   "source": [
    "### Define the parameters"
   ]
  },
  {
   "cell_type": "code",
   "execution_count": 3,
   "metadata": {},
   "outputs": [],
   "source": [
    "Ny    = 128  # Number of y points\n",
    "alpha = 1    # x-wavenumber\n",
    "beta  = 0    # z-wavenumber\n",
    "Re    = 8000 # Reynolds number"
   ]
  },
  {
   "cell_type": "markdown",
   "metadata": {},
   "source": [
    "### Build the domain"
   ]
  },
  {
   "cell_type": "code",
   "execution_count": 4,
   "metadata": {},
   "outputs": [],
   "source": [
    "y_basis = de.Chebyshev('y', Ny, interval=(0, 2))\n",
    "domain = de.Domain([y_basis], np.complex128)\n",
    "y = domain.grid(0,scales=1)"
   ]
  },
  {
   "cell_type": "markdown",
   "metadata": {},
   "source": [
    "### Define and plot the base-flow"
   ]
  },
  {
   "cell_type": "code",
   "execution_count": 5,
   "metadata": {
    "scrolled": true
   },
   "outputs": [
    {
     "data": {
      "text/plain": [
       "<matplotlib.legend.Legend at 0x1286e95d0>"
      ]
     },
     "execution_count": 5,
     "metadata": {},
     "output_type": "execute_result"
    },
    {
     "data": {
      "image/png": "[encoded data removed]",
      "text/plain": [
       "<Figure size 640x480 with 1 Axes>"
      ]
     },
     "metadata": {},
     "output_type": "display_data"
    }
   ],
   "source": [
    "U  = field.Field(domain, name='U')\n",
    "Uy = field.Field(domain, name='Uy')\n",
    "\n",
    "U['g'] = y*(2-y)\n",
    "U.differentiate('y',out=Uy)\n",
    "U.set_scales(1)\n",
    "Uy.set_scales(1)\n",
    "plt.plot(U['g'].real,y,label=r'$u$')\n",
    "plt.plot(Uy['g'].real,y,label=r'$\\partial_y u$')\n",
    "plt.ylabel(r'$y$')\n",
    "plt.ylim([0,2])\n",
    "plt.legend()\n",
    "# plt.savefig(\"base_flow.png\",dpi=150,transparent=True)"
   ]
  },
  {
   "cell_type": "markdown",
   "metadata": {},
   "source": [
    "### Set up the direct and adjoint problems"
   ]
  },
  {
   "cell_type": "code",
   "execution_count": 6,
   "metadata": {},
   "outputs": [
    {
     "name": "stdout",
     "output_type": "stream",
     "text": [
      "2022-12-09 15:08:30,317 problems 0/1 INFO :: Solving EVP with homogeneity tolerance of 1.000e-10\n",
      "2022-12-09 15:08:30,346 problems 0/1 INFO :: Solving EVP with homogeneity tolerance of 1.000e-10\n",
      "CPU times: user 56 ms, sys: 5.92 ms, total: 61.9 ms\n",
      "Wall time: 63.7 ms\n"
     ]
    }
   ],
   "source": [
    "%%time\n",
    "problemDirect = de.EVP(domain, eigenvalue='omega',variables=['u','uy','v','vy','w','wy','p'])\n",
    "problemDirect.parameters['Re']    = Re\n",
    "problemDirect.parameters['alpha'] = alpha\n",
    "problemDirect.parameters['beta']  = beta\n",
    "problemDirect.parameters['U'] = U\n",
    "problemDirect.parameters['Uy'] = Uy\n",
    "\n",
    "problemDirect.add_equation(\"omega*u + 1j*alpha*u*U + v*Uy + 1j*alpha*p + 1./Re*((alpha**2+beta**2)*u - dy(uy)) = 0\")\n",
    "problemDirect.add_equation(\"omega*v + 1j*alpha*v*U +        dy(p)      + 1./Re*((alpha**2+beta**2)*v - dy(vy)) = 0\")\n",
    "problemDirect.add_equation(\"omega*w + 1j*alpha*w*U +        1j*beta*p  + 1./Re*((alpha**2+beta**2)*w - dy(wy)) = 0\")\n",
    "problemDirect.add_equation(\"1j*alpha*u + vy + 1j*beta*w = 0\")\n",
    "\n",
    "problemDirect.add_equation(\"dy(u) - uy = 0\")\n",
    "problemDirect.add_equation(\"dy(v) - vy = 0\")\n",
    "problemDirect.add_equation(\"dy(w) - wy = 0\")\n",
    "\n",
    "problemDirect.add_bc(\"left(u) = 0\")\n",
    "problemDirect.add_bc(\"right(u) = 0\")\n",
    "problemDirect.add_bc(\"left(v) = 0\")\n",
    "problemDirect.add_bc(\"right(v) = 0\")\n",
    "problemDirect.add_bc(\"left(w) = 0\")\n",
    "problemDirect.add_bc(\"right(w) = 0\")\n",
    "\n",
    "problemAdjoint = de.EVP(domain, eigenvalue='omega',variables=['u','uy','v','vy','w','wy','p'])\n",
    "problemAdjoint.parameters['Re'] = Re\n",
    "problemAdjoint.parameters['alpha'] = alpha\n",
    "problemAdjoint.parameters['beta']  = beta\n",
    "\n",
    "problemAdjoint.parameters['U'] = U\n",
    "problemAdjoint.parameters['Uy'] = Uy\n",
    "\n",
    "problemAdjoint.add_equation(\"omega*u - 1j*alpha*u*U -        1j*alpha*p + 1./Re*((alpha**2+beta**2)*u - dy(uy)) = 0\")\n",
    "problemAdjoint.add_equation(\"omega*v - 1j*alpha*v*U + u*Uy - dy(p)      + 1./Re*((alpha**2+beta**2)*v - dy(vy)) = 0\")\n",
    "problemAdjoint.add_equation(\"omega*w - 1j*alpha*w*U -        1j*beta*p  + 1./Re*((alpha**2+beta**2)*w - dy(wy)) = 0\")\n",
    "problemAdjoint.add_equation(\"-1j*alpha*u - vy - 1j*beta*w = 0\")\n",
    "\n",
    "problemAdjoint.add_equation(\"dy(u) - uy = 0\")\n",
    "problemAdjoint.add_equation(\"dy(v) - vy = 0\")\n",
    "problemAdjoint.add_equation(\"dy(w) - wy = 0\")\n",
    "\n",
    "problemAdjoint.add_bc(\"left(u) = 0\")\n",
    "problemAdjoint.add_bc(\"right(u) = 0\")\n",
    "problemAdjoint.add_bc(\"left(v) = 0\")\n",
    "problemAdjoint.add_bc(\"right(v) = 0\")\n",
    "problemAdjoint.add_bc(\"left(w) = 0\")\n",
    "problemAdjoint.add_bc(\"right(w) = 0\")"
   ]
  },
  {
   "cell_type": "markdown",
   "metadata": {},
   "source": [
    "### Solve the eigenvalue problems"
   ]
  },
  {
   "cell_type": "code",
   "execution_count": 7,
   "metadata": {},
   "outputs": [
    {
     "name": "stdout",
     "output_type": "stream",
     "text": [
      "2022-12-09 15:08:30,388 problems 0/1 INFO :: Solving EVP with homogeneity tolerance of 1.000e-10\n",
      "2022-12-09 15:09:11,377 problems 0/1 INFO :: Solving EVP with homogeneity tolerance of 1.000e-10\n",
      "CPU times: user 1min 20s, sys: 832 ms, total: 1min 21s\n",
      "Wall time: 1min 21s\n"
     ]
    }
   ],
   "source": [
    "%%time\n",
    "EP_direct = Eigenproblem(problemDirect)\n",
    "EP_direct.solve(sparse=False)\n",
    "\n",
    "EP_adjoint = Eigenproblem(problemAdjoint)\n",
    "EP_adjoint.solve(sparse=False)"
   ]
  },
  {
   "cell_type": "markdown",
   "metadata": {},
   "source": [
    "### Plot the eigenvalues"
   ]
  },
  {
   "cell_type": "code",
   "execution_count": 8,
   "metadata": {},
   "outputs": [
    {
     "data": {
      "text/plain": [
       "Text(0.5, 1.0, 'Adjoint')"
      ]
     },
     "execution_count": 8,
     "metadata": {},
     "output_type": "execute_result"
    },
    {
     "data": {
      "image/png": "[encoded data removed]",
      "text/plain": [
       "<Figure size 640x480 with 2 Axes>"
      ]
     },
     "metadata": {},
     "output_type": "display_data"
    }
   ],
   "source": [
    "fig, ax = plt.subplots(1,2,sharey=True)\n",
    "\n",
    "ax[0].plot(EP_direct.evalues.imag,EP_direct.evalues.real,'x')\n",
    "ax[0].set_ylim([-1,0.1])\n",
    "ax[0].set_xlabel(r'Imag($\\omega$)')\n",
    "ax[0].set_ylabel(r'Real($\\omega$)')\n",
    "ax[0].set_title(r'Direct')\n",
    "ax[1].plot(EP_adjoint.evalues.imag,EP_adjoint.evalues.real,'x')\n",
    "ax[1].set_ylim([-1,0.1])\n",
    "ax[1].set_xlabel(r'Imag($\\omega$)')\n",
    "ax[1].set_title(r'Adjoint')\n",
    "# plt.savefig(\"eigenvalues.png\",dpi=150,transparent=True)"
   ]
  },
  {
   "cell_type": "markdown",
   "metadata": {},
   "source": [
    "Note that as expected, the eigenvalues of the adjoint operator are exactly the complex conjugates of the eigenvalues of the direct operator."
   ]
  },
  {
   "cell_type": "markdown",
   "metadata": {},
   "source": [
    "### Find the most unstable-mode and its adjoint counterpart"
   ]
  },
  {
   "cell_type": "code",
   "execution_count": 9,
   "metadata": {},
   "outputs": [],
   "source": [
    "idx = np.argmax(EP_direct.evalues.real)\n",
    "most_unstable_direct = EP_direct.eigenmode(idx)\n",
    "\n",
    "idx = np.argmax(EP_adjoint.evalues.real)\n",
    "most_unstable_adjoint = EP_adjoint.eigenmode(idx)"
   ]
  },
  {
   "cell_type": "markdown",
   "metadata": {},
   "source": [
    "### Normalise the direct mode such that $\\langle \\mathbf{u},\\mathbf{u}\\rangle=1$."
   ]
  },
  {
   "cell_type": "code",
   "execution_count": 10,
   "metadata": {},
   "outputs": [
    {
     "name": "stdout",
     "output_type": "stream",
     "text": [
      "Original norm (0.003981395539798955+0j)\n",
      "New norm (1.0000000000000002+0j)\n"
     ]
    }
   ],
   "source": [
    "norm = (np.conj(most_unstable_direct['u'])*most_unstable_direct['u']+np.conj(most_unstable_direct['v'])*most_unstable_direct['v']+np.conj(most_unstable_direct['w'])*most_unstable_direct['w']).evaluate().integrate()['g'][0]\n",
    "print('Original norm',norm)\n",
    "most_unstable_direct['u']['g'] /= np.sqrt(norm)\n",
    "most_unstable_direct['v']['g'] /= np.sqrt(norm)\n",
    "most_unstable_direct['w']['g'] /= np.sqrt(norm)\n",
    "norm = (np.conj(most_unstable_direct['u'])*most_unstable_direct['u']+np.conj(most_unstable_direct['v'])*most_unstable_direct['v']+np.conj(most_unstable_direct['w'])*most_unstable_direct['w']).evaluate().integrate()['g'][0]\n",
    "print('New norm',norm)"
   ]
  },
  {
   "cell_type": "markdown",
   "metadata": {},
   "source": [
    "### Normalise the adjoint mode such that $\\langle \\mathbf{u}^\\dagger,\\mathbf{u}\\rangle=1$."
   ]
  },
  {
   "cell_type": "code",
   "execution_count": 11,
   "metadata": {},
   "outputs": [
    {
     "name": "stdout",
     "output_type": "stream",
     "text": [
      "Original norm (9.440544000307696e-05-0.005939182391868592j)\n",
      "New norm (1.0000000000000007+4.347208880931189e-16j)\n"
     ]
    }
   ],
   "source": [
    "norm = (np.conj(most_unstable_adjoint['u'])*most_unstable_direct['u']+np.conj(most_unstable_adjoint['v'])*most_unstable_direct['v']+np.conj(most_unstable_adjoint['w'])*most_unstable_direct['w']).evaluate().integrate()['g'][0]\n",
    "print('Original norm',norm)\n",
    "most_unstable_adjoint['u']['g'] /= np.conj(norm)\n",
    "most_unstable_adjoint['v']['g'] /= np.conj(norm)\n",
    "most_unstable_adjoint['w']['g'] /= np.conj(norm)\n",
    "norm = norm = (np.conj(most_unstable_adjoint['u'])*most_unstable_direct['u']+np.conj(most_unstable_adjoint['v'])*most_unstable_direct['v']+np.conj(most_unstable_adjoint['w'])*most_unstable_direct['w']).evaluate().integrate()['g'][0]\n",
    "print('New norm',norm)"
   ]
  },
  {
   "cell_type": "markdown",
   "metadata": {},
   "source": [
    "### Plot the direct and adjoint modes"
   ]
  },
  {
   "cell_type": "code",
   "execution_count": 12,
   "metadata": {},
   "outputs": [
    {
     "data": {
      "text/plain": [
       "Text(0.5, 0, '$y$')"
      ]
     },
     "execution_count": 12,
     "metadata": {},
     "output_type": "execute_result"
    },
    {
     "data": {
      "image/png": "[encoded data removed]",
      "text/plain": [
       "<Figure size 640x480 with 2 Axes>"
      ]
     },
     "metadata": {},
     "output_type": "display_data"
    }
   ],
   "source": [
    "fig, ax = plt.subplots(2,1,sharex=True)\n",
    "\n",
    "ax[0].plot(y,most_unstable_direct['u']['g'].real,label=r'$u$')\n",
    "ax[0].plot(y,most_unstable_direct['v']['g'].real,label=r'$v$')\n",
    "ax[0].plot(y,most_unstable_direct['w']['g'].real,label=r'$w$')\n",
    "ax[0].legend()\n",
    "ax[0].set_xlim([0,2])\n",
    "ax[0].set_title('Direct')\n",
    "ax[1].plot(y,most_unstable_adjoint['u']['g'].real,label=r'$u$')\n",
    "ax[1].plot(y,most_unstable_adjoint['v']['g'].real,label=r'$v$')\n",
    "ax[1].plot(y,most_unstable_adjoint['w']['g'].real,label=r'$w$')\n",
    "ax[1].legend()\n",
    "ax[1].set_xlim([0,2])\n",
    "ax[1].set_title('Adjoint')\n",
    "ax[1].set_xlabel(r'$y$')\n",
    "# plt.savefig(\"eigenvectors.png\",dpi=150,transparent=True)"
   ]
  },
  {
   "cell_type": "markdown",
   "metadata": {},
   "source": [
    "It is clear that even though the eigenvalues of the two operators are the same, the eigenvectors are quite different. In terms of sensitivity, the adjoint shows us that perturbations near the wall are much more effective at changing the eigenvalue, even though the direct mode is large in the centre."
   ]
  },
  {
   "cell_type": "markdown",
   "metadata": {},
   "source": [
    "# Sensitivity analysis"
   ]
  },
  {
   "cell_type": "markdown",
   "metadata": {},
   "source": [
    "With the direct and adjoint mode calculated, let us now use our adjoint formula $\\delta \\omega  = \\langle \\mathbf{u}^\\dagger,\\delta \\mathcal{A}\\mathbf{u}\\rangle$ to assess how the eigenvalue will change if the Reynolds number is changed. The formula tells us that \n",
    "$$\\frac{\\partial\\omega}{\\partial Re}  = \\langle \\mathbf{u}^\\dagger,\\frac{\\partial \\mathcal{A}}{\\partial Re}\\mathbf{u}\\rangle.$$ We already know $\\mathbf{u}^\\dagger$ and $\\mathbf{u}$, so all that remains is to calculate the operator $\\frac{\\partial \\mathcal{A}}{\\partial Re}$, which is easily found via differentiation to be\n",
    "$$ \\frac{\\partial \\mathcal{A}}{\\partial Re}=-\\frac{1}{Re^2}\\left(\\partial_{yy}-\\left(\\alpha^2+\\beta^2\\right)\\right).$$\n",
    "\n",
    "We can now calculate this using Dedalus"
   ]
  },
  {
   "cell_type": "markdown",
   "metadata": {},
   "source": [
    "### Define the Laplacian operator"
   ]
  },
  {
   "cell_type": "code",
   "execution_count": 13,
   "metadata": {},
   "outputs": [],
   "source": [
    "def lap(u,v,w):\n",
    "    uyy = de.operators.differentiate(u, y=2)\n",
    "    vyy = de.operators.differentiate(v, y=2)\n",
    "    wyy = de.operators.differentiate(w, y=2)\n",
    "    u_lap = -(alpha**2+beta**2)*u + uyy\n",
    "    v_lap = -(alpha**2+beta**2)*v + vyy\n",
    "    w_lap = -(alpha**2+beta**2)*w + wyy\n",
    "    return u_lap.evaluate(),v_lap.evaluate(),w_lap.evaluate()"
   ]
  },
  {
   "cell_type": "markdown",
   "metadata": {},
   "source": [
    "### Apply the Laplacian operator to $\\mathbf{u}$"
   ]
  },
  {
   "cell_type": "code",
   "execution_count": 14,
   "metadata": {},
   "outputs": [],
   "source": [
    "u_lap, v_lap, w_lap = lap(most_unstable_direct['u'],most_unstable_direct['v'],most_unstable_direct['w'])"
   ]
  },
  {
   "cell_type": "markdown",
   "metadata": {},
   "source": [
    "### Calculate the sensitivity with respect to the Reynolds number"
   ]
  },
  {
   "cell_type": "code",
   "execution_count": 15,
   "metadata": {},
   "outputs": [
    {
     "name": "stdout",
     "output_type": "stream",
     "text": [
      "dω/dRe = (7.793373241811189e-07+5.431301239086212e-06j)\n"
     ]
    }
   ],
   "source": [
    "# Sensitivity wrt Re\n",
    "domdRe = (np.conj(most_unstable_adjoint['u'])*u_lap+np.conj(most_unstable_adjoint['v'])*v_lap+np.conj(most_unstable_adjoint['w'])*w_lap).evaluate().integrate()['g'][0]\n",
    "domdRe *= -1./Re**2\n",
    "print('dω/dRe =',domdRe)"
   ]
  },
  {
   "cell_type": "markdown",
   "metadata": {},
   "source": [
    "The result shows us that increasing the Reynolds number will increase both the growth rate and frequency of the mode. Lets check by calculating the eigenvalue at $Re=8500$."
   ]
  },
  {
   "cell_type": "code",
   "execution_count": 16,
   "metadata": {},
   "outputs": [
    {
     "name": "stdout",
     "output_type": "stream",
     "text": [
      "At Re=8000, omega =  (0.002664410371118129-0.2470750601749862j)\n",
      "At Re=8500, omega =  (0.003018756837360654-0.2444517399557504j)\n",
      "Prediction using linear interpolation =  (0.0030540790332086887-0.2443594095554431j)\n"
     ]
    }
   ],
   "source": [
    "old_most_unstable = EP_direct.evalues[np.argmax(EP_direct.evalues.real)]\n",
    "EP_direct.solve(sparse=True,target=-0.26j,N=10, parameters={'Re':8500})\n",
    "new_most_unstable = EP_direct.evalues[np.argmax(EP_direct.evalues.real)]\n",
    "print('At Re=8000, omega = ',old_most_unstable)\n",
    "print('At Re=8500, omega = ',new_most_unstable)\n",
    "print('Prediction using linear interpolation = ',old_most_unstable+500*domdRe)"
   ]
  },
  {
   "cell_type": "markdown",
   "metadata": {},
   "source": [
    "As we can see, the adjoint gives a reasonable prediction of the new eigenvalue. Now lets use this gradient information in a couple of different ways. \n",
    "\n",
    "## Interpolation\n",
    "\n",
    "Firstly, we can calculate the maximum growth rate at a sparse range of Reynolds numbers. By also calculating the adjoint eigenvector at each of these Reynolds numbers we can additionally obtain the gradient, allowing us to interpolate between points using a cubic."
   ]
  },
  {
   "cell_type": "markdown",
   "metadata": {},
   "source": [
    "### Function to perform the cubic interpolation"
   ]
  },
  {
   "cell_type": "code",
   "execution_count": 17,
   "metadata": {},
   "outputs": [],
   "source": [
    "def cubeFit(x1,x2,fx1,fx2,fx1d,fx2d):\n",
    "    # Finds coefficients f(x) = Ax^3+Bx^2+Cx+D such that\n",
    "    # f(x1)  = fx1\n",
    "    # f(x2)  = fx2\n",
    "    # f'(x1) = fx1d\n",
    "    # f'(x2) = fx2d\n",
    "\n",
    "    RHS = np.array([fx1,fx2,fx1d,fx2d]);\n",
    "    row1 = np.array([x1**3, x1**2, x1, 1])\n",
    "    row2 = np.array([x2**3, x2**2, x2, 1])\n",
    "    row3 = np.array([3*x1**2, 2*x1, 1, 0])\n",
    "    row4 = np.array([3*x2**2, 2*x2, 1, 0])\n",
    "    LHS = np.vstack((row1,row2,row3,row4))\n",
    "    ANS = np.linalg.solve(LHS,RHS)\n",
    "    A = ANS[0]\n",
    "    B = ANS[1]\n",
    "    C = ANS[2]\n",
    "    D = ANS[3]\n",
    "    return A,B,C,D"
   ]
  },
  {
   "cell_type": "markdown",
   "metadata": {},
   "source": [
    "### Calculate the maximum growth rate and its gradient at a range of Reynolds numbers"
   ]
  },
  {
   "cell_type": "code",
   "execution_count": 18,
   "metadata": {},
   "outputs": [
    {
     "name": "stdout",
     "output_type": "stream",
     "text": [
      "Solving for Re =   500.00\n",
      "Solving for Re =  1777.78\n",
      "Solving for Re =  3055.56\n",
      "Solving for Re =  4333.33\n",
      "Solving for Re =  5611.11\n",
      "Solving for Re =  6888.89\n",
      "Solving for Re =  8166.67\n",
      "Solving for Re =  9444.44\n",
      "Solving for Re = 10722.22\n",
      "Solving for Re = 12000.00\n",
      "CPU times: user 2.37 s, sys: 51.2 ms, total: 2.42 s\n",
      "Wall time: 2.46 s\n"
     ]
    }
   ],
   "source": [
    "%%time\n",
    "Reynolds = np.linspace(500,12000,10)\n",
    "growths = []\n",
    "gradients = []\n",
    "for Re_v in Reynolds:\n",
    "    print('Solving for Re = {0:8.02f}'.format(Re_v))\n",
    "    EP_direct.solve(sparse=True,target=-0.26j,N=20, parameters={'Re':Re_v})\n",
    "    max_growth = EP_direct.evalues[np.argmax(EP_direct.evalues.real)].real\n",
    "    growths.append(max_growth)\n",
    "    \n",
    "    EP_adjoint.solve(sparse=True,target=0.26j,N=20, parameters={'Re':Re_v})\n",
    "    \n",
    "    idx = np.argmax(EP_direct.evalues.real)\n",
    "    most_unstable_direct = EP_direct.eigenmode(idx)\n",
    "\n",
    "    idx = np.argmax(EP_adjoint.evalues.real)\n",
    "    most_unstable_adjoint = EP_adjoint.eigenmode(idx)\n",
    "    \n",
    "    # Normalise\n",
    "    norm = (np.conj(most_unstable_adjoint['u'])*most_unstable_direct['u']+np.conj(most_unstable_adjoint['v'])*most_unstable_direct['v']+np.conj(most_unstable_adjoint['w'])*most_unstable_direct['w']).evaluate().integrate()['g'][0]\n",
    "    most_unstable_adjoint['u']['g'] /= np.conj(norm)\n",
    "    most_unstable_adjoint['v']['g'] /= np.conj(norm)\n",
    "    most_unstable_adjoint['w']['g'] /= np.conj(norm)\n",
    "    norm = (np.conj(most_unstable_adjoint['u'])*most_unstable_direct['u']+np.conj(most_unstable_adjoint['v'])*most_unstable_direct['v']+np.conj(most_unstable_adjoint['w'])*most_unstable_direct['w']).evaluate().integrate()['g'][0]\n",
    "\n",
    "    u_lap, v_lap, w_lap = lap(most_unstable_direct['u'],most_unstable_direct['v'],most_unstable_direct['w'])\n",
    "    dldRe = (np.conj(most_unstable_adjoint['u'])*u_lap+np.conj(most_unstable_adjoint['v'])*v_lap+np.conj(most_unstable_adjoint['w'])*w_lap).evaluate().integrate()['g'][0]\n",
    "    dldRe *= -1./Re_v**2\n",
    "    \n",
    "    gradients.append(dldRe)"
   ]
  },
  {
   "cell_type": "markdown",
   "metadata": {},
   "source": [
    "### Plot the cubic interpolation"
   ]
  },
  {
   "cell_type": "code",
   "execution_count": 19,
   "metadata": {},
   "outputs": [
    {
     "name": "stderr",
     "output_type": "stream",
     "text": [
      "/Users/calumskene/opt/miniconda3/envs/dedalus2/lib/python3.10/site-packages/matplotlib/cbook/__init__.py:1298: ComplexWarning: Casting complex values to real discards the imaginary part\n",
      "  return np.asarray(x, float)\n"
     ]
    },
    {
     "data": {
      "text/plain": [
       "<matplotlib.legend.Legend at 0x128ce14b0>"
      ]
     },
     "execution_count": 19,
     "metadata": {},
     "output_type": "execute_result"
    },
    {
     "data": {
      "image/png": "[encoded data removed]",
      "text/plain": [
       "<Figure size 640x480 with 1 Axes>"
      ]
     },
     "metadata": {},
     "output_type": "display_data"
    }
   ],
   "source": [
    "plt.plot(Reynolds,growths,'C0')\n",
    "for i in range(len(growths)-1):\n",
    "    A,B,C,D = cubeFit(Reynolds[i],Reynolds[i+1],growths[i],growths[i+1],gradients[i],gradients[i+1])\n",
    "    x = np.linspace(Reynolds[i],Reynolds[i+1],100)\n",
    "    f = A*x**3+B*x**2+C*x+D\n",
    "    plt.plot(x,f,'C1')\n",
    "    plt.plot(Reynolds[i],growths[i],'C1x')\n",
    "    plt.xlabel(r'Re')\n",
    "    plt.ylabel(r'Max growth rate')\n",
    "plt.plot(Reynolds[-1],growths[-1],'C1x')\n",
    "plt.legend(['Without cubic interpolation','With cubic interpolation'])\n",
    "# plt.savefig(\"growth_rates.png\",dpi=150,transparent=True)"
   ]
  },
  {
   "cell_type": "markdown",
   "metadata": {},
   "source": [
    "We see that the cubic interpolation gives a much smoother growth-rate curve, especially for lower Reynolds numbers where the growth-rate is changing quickly. This shows how adjoints can be used for *interpolation*, and also how they give us information that can be used to more carefully place our simulations, e.g. perform more simulations where the gradient is larger."
   ]
  },
  {
   "cell_type": "markdown",
   "metadata": {},
   "source": [
    "## Critical-parameter search"
   ]
  },
  {
   "cell_type": "markdown",
   "metadata": {},
   "source": [
    "Secondly, we can also use the gradient information to help find a critical parameter via gradient-based optimisation. To do this we can use $scipy.optimize.minimize$, providing the cost function as $\\mathcal{J}=\\textrm{Real}(\\omega)^2$. This is minimised at the critcal Reynolds number $Re_c$. The gradient is then $$\\frac{\\partial\\mathcal{J}}{\\partial Re}=2\\textrm{Real}(\\omega)\\textrm{Real}\\left(\\frac{\\partial \\omega}{\\partial Re}\\right).$$ The L-BFGS algorithm can use the cost and the gradient to find the critical parameter."
   ]
  },
  {
   "cell_type": "markdown",
   "metadata": {},
   "source": [
    "## Define our cost-gradient function"
   ]
  },
  {
   "cell_type": "code",
   "execution_count": 20,
   "metadata": {},
   "outputs": [],
   "source": [
    "def cost_grad(Re_v):\n",
    "    # Takes the Reynolds number and returns the cost and the gradient\n",
    "    EP_direct.solve(sparse=True,target=-0.26j,N=20, parameters={'Re':Re_v[0]})\n",
    "    max_growth = EP_direct.evalues[np.argmax(EP_direct.evalues.real)].real\n",
    "    growths.append(max_growth)\n",
    "    \n",
    "    EP_adjoint.solve(sparse=True,target=0.26j,N=20, parameters={'Re':Re_v[0]})\n",
    "    \n",
    "    idx = np.argmax(EP_direct.evalues.real)\n",
    "    most_unstable_direct = EP_direct.eigenmode(idx)\n",
    "    cost = EP_direct.evalues.real[idx]**2\n",
    "    growth = EP_direct.evalues.real[idx]\n",
    "    idx = np.argmax(EP_adjoint.evalues.real)\n",
    "    most_unstable_adjoint = EP_adjoint.eigenmode(idx)\n",
    "    \n",
    "    # Normalise\n",
    "    norm = (np.conj(most_unstable_adjoint['u'])*most_unstable_direct['u']+np.conj(most_unstable_adjoint['v'])*most_unstable_direct['v']+np.conj(most_unstable_adjoint['w'])*most_unstable_direct['w']).evaluate().integrate()['g'][0]\n",
    "\n",
    "    most_unstable_adjoint['u']['g'] /= np.conj(norm)\n",
    "    most_unstable_adjoint['v']['g'] /= np.conj(norm)\n",
    "    most_unstable_adjoint['w']['g'] /= np.conj(norm)\n",
    "    norm = (np.conj(most_unstable_adjoint['u'])*most_unstable_direct['u']+np.conj(most_unstable_adjoint['v'])*most_unstable_direct['v']+np.conj(most_unstable_adjoint['w'])*most_unstable_direct['w']).evaluate().integrate()['g'][0]\n",
    "\n",
    "    u_lap, v_lap, w_lap = lap(most_unstable_direct['u'],most_unstable_direct['v'],most_unstable_direct['w'])\n",
    "    domdRe = (np.conj(most_unstable_adjoint['u'])*u_lap+np.conj(most_unstable_adjoint['v'])*v_lap+np.conj(most_unstable_adjoint['w'])*w_lap).evaluate().integrate()['g'][0]\n",
    "    domdRe *= -1./(Re_v[0]**2)\n",
    "    gradient = 2*growth*domdRe.real\n",
    "    print('{0:6.01f}  {1:5.02e}  {2:5.02e}'.format(Re_v[0],cost,gradient))\n",
    "    \n",
    "    return cost, np.array(gradient)"
   ]
  },
  {
   "cell_type": "markdown",
   "metadata": {},
   "source": [
    "### Perform the optimisation"
   ]
  },
  {
   "cell_type": "code",
   "execution_count": 21,
   "metadata": {},
   "outputs": [],
   "source": [
    "import scipy\n",
    "from scipy.optimize import minimize"
   ]
  },
  {
   "cell_type": "code",
   "execution_count": 22,
   "metadata": {},
   "outputs": [
    {
     "name": "stdout",
     "output_type": "stream",
     "text": [
      "Re      cost      gradient\n",
      "2000.0  3.92e-04  -5.34e-07\n",
      "2001.0  3.91e-04  -5.33e-07\n",
      "2005.0  3.89e-04  -5.30e-07\n",
      "2021.0  3.81e-04  -5.18e-07\n",
      "2085.0  3.49e-04  -4.71e-07\n",
      "2727.7  1.49e-04  -1.97e-07\n",
      "3187.9  8.05e-05  -1.10e-07\n",
      "3768.9  3.51e-05  -5.31e-08\n",
      "4313.7  1.43e-05  -2.60e-08\n",
      "4837.4  4.74e-06  -1.18e-08\n",
      "5274.4  1.20e-06  -4.94e-09\n",
      "5586.9  1.87e-07  -1.72e-09\n",
      "5753.2  1.28e-08  -4.19e-10\n",
      "5807.0  2.02e-10  -5.17e-11\n",
      "5814.5  2.67e-13  -1.87e-12\n",
      "5814.8  5.90e-18  -8.80e-15\n",
      "Re_c = 5814.8\n",
      "Number of function evaluations = 16\n",
      "CPU times: user 4.09 s, sys: 74.7 ms, total: 4.16 s\n",
      "Wall time: 4.21 s\n"
     ]
    }
   ],
   "source": [
    "%%time\n",
    "print('Re      cost      gradient')\n",
    "sol = scipy.optimize.minimize(cost_grad, x0 = np.array(2000.0),jac=True,method='L-BFGS-B',tol=1e-14)\n",
    "print('Re_c = {0:6.01f}'.format(sol.x[0]))\n",
    "print('Number of function evaluations =',sol.nfev)"
   ]
  },
  {
   "cell_type": "markdown",
   "metadata": {},
   "source": [
    "The critical Reynolds number for $\\alpha=1$ and $\\beta=0$, $Re_c \\approx 5814.8$, is obtained using 16 eigenvalue solves."
   ]
  },
  {
   "cell_type": "code",
   "execution_count": null,
   "metadata": {},
   "outputs": [],
   "source": []
  }
 ],
 "metadata": {
  "@webio": {
   "lastCommId": null,
   "lastKernelId": null
  },
  "kernelspec": {
   "display_name": "Python [conda env:dedalus2]",
   "language": "python",
   "name": "conda-env-dedalus2-py"
  },
  "language_info": {
   "codemirror_mode": {
    "name": "ipython",
    "version": 3
   },
   "file_extension": ".py",
   "mimetype": "text/x-python",
   "name": "python",
   "nbconvert_exporter": "python",
   "pygments_lexer": "ipython3",
   "version": "3.10.6"
  }
 },
 "nbformat": 4,
 "nbformat_minor": 4
}
